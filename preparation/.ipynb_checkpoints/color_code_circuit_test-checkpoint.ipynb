{
 "cells": [
  {
   "cell_type": "code",
   "execution_count": 4,
   "id": "405ba9df-9908-4c38-ae2e-acb7e84d33c8",
   "metadata": {
    "scrolled": true
   },
   "outputs": [
    {
     "name": "stdout",
     "output_type": "stream",
     "text": [
      "C:\\Users\\monam\\OneDrive\\Desktop\\UNI\\II\\PartIIProject\\CST-Part-II-Project-Code\\preparation\n",
      "New CWD for imports: C:\\Users\\monam\\OneDrive\\Desktop\\UNI\\II\\PartIIProject\\CST-Part-II-Project-Code\n",
      "System path successfully configured.\n"
     ]
    }
   ],
   "source": [
    "import os\n",
    "import sys\n",
    "\n",
    "print(os.getcwd())\n",
    "# 1. Navigate UP two levels to the project root:\n",
    "#    preparation/ -> CST-Part-II-Project-Code/\n",
    "os.chdir('..') # Go up one level (out of preparation)\n",
    "\n",
    "# 2. Check the path again. We should now be in the project root.\n",
    "#    You don't need to go up another level, as the previous failed attempt\n",
    "#    must have been a result of not resetting the environment first.\n",
    "#    We will confirm and then add the current directory ('.').\n",
    "\n",
    "# 3. Add the project root (the directory containing 'src') to sys.path\n",
    "#    The '.' refers to the Current Working Directory, which is now the project root.\n",
    "if '.' not in sys.path:\n",
    "    sys.path.append('.')\n",
    "\n",
    "# Check the final working directory (optional, but helpful for confirmation)\n",
    "print(f\"New CWD for imports: {os.getcwd()}\")\n",
    "print(\"System path successfully configured.\")"
   ]
  },
  {
   "cell_type": "code",
   "execution_count": 5,
   "id": "1122d4ce",
   "metadata": {},
   "outputs": [
    {
     "name": "stdout",
     "output_type": "stream",
     "text": [
      "Requirement already satisfied: stim in c:\\users\\monam\\appdata\\local\\packages\\pythonsoftwarefoundation.python.3.9_qbz5n2kfra8p0\\localcache\\local-packages\\python39\\site-packages (1.15.0)Note: you may need to restart the kernel to use updated packages.\n"
     ]
    },
    {
     "name": "stderr",
     "output_type": "stream",
     "text": [
      "WARNING: Ignoring invalid distribution -atplotlib (c:\\users\\monam\\appdata\\local\\packages\\pythonsoftwarefoundation.python.3.9_qbz5n2kfra8p0\\localcache\\local-packages\\python39\\site-packages)\n",
      "WARNING: Ignoring invalid distribution -atplotlib (c:\\users\\monam\\appdata\\local\\packages\\pythonsoftwarefoundation.python.3.9_qbz5n2kfra8p0\\localcache\\local-packages\\python39\\site-packages)\n",
      "WARNING: Ignoring invalid distribution -atplotlib (c:\\users\\monam\\appdata\\local\\packages\\pythonsoftwarefoundation.python.3.9_qbz5n2kfra8p0\\localcache\\local-packages\\python39\\site-packages)\n",
      "WARNING: Ignoring invalid distribution -atplotlib (c:\\users\\monam\\appdata\\local\\packages\\pythonsoftwarefoundation.python.3.9_qbz5n2kfra8p0\\localcache\\local-packages\\python39\\site-packages)\n",
      "\n",
      "[notice] A new release of pip is available: 23.3.2 -> 25.3\n",
      "[notice] To update, run: C:\\Users\\monam\\AppData\\Local\\Microsoft\\WindowsApps\\PythonSoftwareFoundation.Python.3.9_qbz5n2kfra8p0\\python.exe -m pip install --upgrade pip\n"
     ]
    },
    {
     "name": "stdout",
     "output_type": "stream",
     "text": [
      "\n",
      "Requirement already satisfied: numpy in c:\\users\\monam\\appdata\\local\\packages\\pythonsoftwarefoundation.python.3.9_qbz5n2kfra8p0\\localcache\\local-packages\\python39\\site-packages (from stim) (1.22.4)\n",
      "Requirement already satisfied: svgwrite in c:\\users\\monam\\appdata\\local\\packages\\pythonsoftwarefoundation.python.3.9_qbz5n2kfra8p0\\localcache\\local-packages\\python39\\site-packages (1.4.3)\n",
      "Note: you may need to restart the kernel to use updated packages.\n"
     ]
    },
    {
     "name": "stderr",
     "output_type": "stream",
     "text": [
      "WARNING: Ignoring invalid distribution -atplotlib (c:\\users\\monam\\appdata\\local\\packages\\pythonsoftwarefoundation.python.3.9_qbz5n2kfra8p0\\localcache\\local-packages\\python39\\site-packages)\n",
      "WARNING: Ignoring invalid distribution -atplotlib (c:\\users\\monam\\appdata\\local\\packages\\pythonsoftwarefoundation.python.3.9_qbz5n2kfra8p0\\localcache\\local-packages\\python39\\site-packages)\n",
      "WARNING: Ignoring invalid distribution -atplotlib (c:\\users\\monam\\appdata\\local\\packages\\pythonsoftwarefoundation.python.3.9_qbz5n2kfra8p0\\localcache\\local-packages\\python39\\site-packages)\n",
      "WARNING: Ignoring invalid distribution -atplotlib (c:\\users\\monam\\appdata\\local\\packages\\pythonsoftwarefoundation.python.3.9_qbz5n2kfra8p0\\localcache\\local-packages\\python39\\site-packages)\n",
      "\n",
      "[notice] A new release of pip is available: 23.3.2 -> 25.3\n",
      "[notice] To update, run: C:\\Users\\monam\\AppData\\Local\\Microsoft\\WindowsApps\\PythonSoftwareFoundation.Python.3.9_qbz5n2kfra8p0\\python.exe -m pip install --upgrade pip\n"
     ]
    }
   ],
   "source": [
    "%pip install stim\n",
    "%pip install svgwrite"
   ]
  },
  {
   "cell_type": "code",
   "execution_count": 6,
   "id": "60a258d8-4823-4ed6-949b-d23c882078d8",
   "metadata": {},
   "outputs": [],
   "source": [
    "from src.color_code_simulator.color_code_circuits.color_code_circuit_666 import ColorCodeCircuit666"
   ]
  },
  {
   "cell_type": "code",
   "execution_count": 7,
   "id": "b2ae4a38-0343-4ca1-9223-48663caa377a",
   "metadata": {},
   "outputs": [
    {
     "name": "stdout",
     "output_type": "stream",
     "text": [
      "index = 0, xtype = [['D', 'D', 'M'], ['M', 'D', 'D'], ['D', 'M', 'D']]\n",
      "0 0\n",
      "2 0\n",
      "4 0\n",
      "6 0\n",
      "index = 1, xtype = [['D', 'D', 'M'], ['M', 'D', 'D'], ['D', 'M', 'D']]\n",
      "1 1\n",
      "3 1\n",
      "5 1\n",
      "index = 2, xtype = [['D', 'D', 'M'], ['M', 'D', 'D'], ['D', 'M', 'D']]\n",
      "2 2\n",
      "4 2\n",
      "index = 0, xtype = [['D', 'D', 'M'], ['M', 'D', 'D'], ['D', 'M', 'D']]\n",
      "3 3\n",
      "tiles = [ColorCodeTile(qubits=[(2, 0), (6, 0), (3, 1), (5, 1)], ancilla=(4, 0), color='red'), ColorCodeTile(qubits=[(0, 0), (2, 0), (3, 1), (2, 2)], ancilla=(1, 1), color='green'), ColorCodeTile(qubits=[(3, 1), (5, 1), (2, 2), (3, 3)], ancilla=(4, 2), color='blue')]\n"
     ]
    }
   ],
   "source": [
    "circ = ColorCodeCircuit666(3,1)\n",
    "layout = circ.generate_layout()"
   ]
  },
  {
   "cell_type": "code",
   "execution_count": 23,
   "id": "08dd3cf7-cc36-4376-8daa-0b13810da797",
   "metadata": {
    "scrolled": true
   },
   "outputs": [
    {
     "name": "stdout",
     "output_type": "stream",
     "text": [
      "0 0\n",
      "2 0\n",
      "4 0\n",
      "6 0\n",
      "8 0\n",
      "10 0\n",
      "12 0\n",
      "14 0\n",
      "16 0\n",
      "18 0\n",
      "20 0\n",
      "22 0\n",
      "24 0\n",
      "1 1\n",
      "3 1\n",
      "5 1\n",
      "7 1\n",
      "9 1\n",
      "11 1\n",
      "13 1\n",
      "15 1\n",
      "17 1\n",
      "19 1\n",
      "21 1\n",
      "23 1\n",
      "2 2\n",
      "4 2\n",
      "6 2\n",
      "8 2\n",
      "10 2\n",
      "12 2\n",
      "14 2\n",
      "16 2\n",
      "18 2\n",
      "20 2\n",
      "22 2\n",
      "3 3\n",
      "5 3\n",
      "7 3\n",
      "9 3\n",
      "11 3\n",
      "13 3\n",
      "15 3\n",
      "17 3\n",
      "19 3\n",
      "21 3\n",
      "4 4\n",
      "6 4\n",
      "8 4\n",
      "10 4\n",
      "12 4\n",
      "14 4\n",
      "16 4\n",
      "18 4\n",
      "20 4\n",
      "5 5\n",
      "7 5\n",
      "9 5\n",
      "11 5\n",
      "13 5\n",
      "15 5\n",
      "17 5\n",
      "19 5\n",
      "6 6\n",
      "8 6\n",
      "10 6\n",
      "12 6\n",
      "14 6\n",
      "16 6\n",
      "18 6\n",
      "7 7\n",
      "9 7\n",
      "11 7\n",
      "13 7\n",
      "15 7\n",
      "17 7\n",
      "8 8\n",
      "10 8\n",
      "12 8\n",
      "14 8\n",
      "16 8\n",
      "9 9\n",
      "11 9\n",
      "13 9\n",
      "15 9\n",
      "10 10\n",
      "12 10\n",
      "14 10\n",
      "11 11\n",
      "13 11\n",
      "12 12\n"
     ]
    },
    {
     "data": {
      "text/plain": [
       "[ColorCodeTile(qubits=[(6, 0), (5, 1), (3, 1), (2, 0)], ancilla=(4, 0), color='red'),\n",
       " ColorCodeTile(qubits=[(12, 0), (11, 1), (9, 1), (8, 0)], ancilla=(10, 0), color='red'),\n",
       " ColorCodeTile(qubits=[(18, 0), (17, 1), (15, 1), (14, 0)], ancilla=(16, 0), color='red'),\n",
       " ColorCodeTile(qubits=[(24, 0), (23, 1), (21, 1), (20, 0)], ancilla=(22, 0), color='red'),\n",
       " ColorCodeTile(qubits=[(0, 0), (2, 0), (3, 1), (2, 2)], ancilla=(1, 1), color='green'),\n",
       " ColorCodeTile(qubits=[(6, 0), (8, 0), (9, 1), (8, 2), (6, 2), (5, 1)], ancilla=(7, 1), color='green'),\n",
       " ColorCodeTile(qubits=[(12, 0), (14, 0), (15, 1), (14, 2), (12, 2), (11, 1)], ancilla=(13, 1), color='green'),\n",
       " ColorCodeTile(qubits=[(18, 0), (20, 0), (21, 1), (20, 2), (18, 2), (17, 1)], ancilla=(19, 1), color='green'),\n",
       " ColorCodeTile(qubits=[(3, 1), (5, 1), (6, 2), (5, 3), (3, 3), (2, 2)], ancilla=(4, 2), color='blue'),\n",
       " ColorCodeTile(qubits=[(9, 1), (11, 1), (12, 2), (11, 3), (9, 3), (8, 2)], ancilla=(10, 2), color='blue'),\n",
       " ColorCodeTile(qubits=[(15, 1), (17, 1), (18, 2), (17, 3), (15, 3), (14, 2)], ancilla=(16, 2), color='blue'),\n",
       " ColorCodeTile(qubits=[(21, 1), (23, 1), (21, 3), (20, 2)], ancilla=(22, 2), color='blue'),\n",
       " ColorCodeTile(qubits=[(6, 2), (8, 2), (9, 3), (8, 4), (6, 4), (5, 3)], ancilla=(7, 3), color='red'),\n",
       " ColorCodeTile(qubits=[(12, 2), (14, 2), (15, 3), (14, 4), (12, 4), (11, 3)], ancilla=(13, 3), color='red'),\n",
       " ColorCodeTile(qubits=[(18, 2), (20, 2), (21, 3), (20, 4), (18, 4), (17, 3)], ancilla=(19, 3), color='red'),\n",
       " ColorCodeTile(qubits=[(3, 3), (5, 3), (6, 4), (5, 5)], ancilla=(4, 4), color='green'),\n",
       " ColorCodeTile(qubits=[(9, 3), (11, 3), (12, 4), (11, 5), (9, 5), (8, 4)], ancilla=(10, 4), color='green'),\n",
       " ColorCodeTile(qubits=[(15, 3), (17, 3), (18, 4), (17, 5), (15, 5), (14, 4)], ancilla=(16, 4), color='green'),\n",
       " ColorCodeTile(qubits=[(6, 4), (8, 4), (9, 5), (8, 6), (6, 6), (5, 5)], ancilla=(7, 5), color='blue'),\n",
       " ColorCodeTile(qubits=[(12, 4), (14, 4), (15, 5), (14, 6), (12, 6), (11, 5)], ancilla=(13, 5), color='blue'),\n",
       " ColorCodeTile(qubits=[(18, 4), (20, 4), (18, 6), (17, 5)], ancilla=(19, 5), color='blue'),\n",
       " ColorCodeTile(qubits=[(9, 5), (11, 5), (12, 6), (11, 7), (9, 7), (8, 6)], ancilla=(10, 6), color='red'),\n",
       " ColorCodeTile(qubits=[(15, 5), (17, 5), (18, 6), (17, 7), (15, 7), (14, 6)], ancilla=(16, 6), color='red'),\n",
       " ColorCodeTile(qubits=[(6, 6), (8, 6), (9, 7), (8, 8)], ancilla=(7, 7), color='green'),\n",
       " ColorCodeTile(qubits=[(12, 6), (14, 6), (15, 7), (14, 8), (12, 8), (11, 7)], ancilla=(13, 7), color='green'),\n",
       " ColorCodeTile(qubits=[(9, 7), (11, 7), (12, 8), (11, 9), (9, 9), (8, 8)], ancilla=(10, 8), color='blue'),\n",
       " ColorCodeTile(qubits=[(15, 7), (17, 7), (15, 9), (14, 8)], ancilla=(16, 8), color='blue'),\n",
       " ColorCodeTile(qubits=[(12, 8), (14, 8), (15, 9), (14, 10), (12, 10), (11, 9)], ancilla=(13, 9), color='red'),\n",
       " ColorCodeTile(qubits=[(9, 9), (11, 9), (12, 10), (11, 11)], ancilla=(10, 10), color='green'),\n",
       " ColorCodeTile(qubits=[(12, 10), (14, 10), (12, 12), (11, 11)], ancilla=(13, 11), color='blue')]"
      ]
     },
     "execution_count": 23,
     "metadata": {},
     "output_type": "execute_result"
    }
   ],
   "source": [
    "from dataclasses import dataclass\n",
    "@dataclass\n",
    "class ColorCodeTile:\n",
    "    qubits: list\n",
    "    ancilla: tuple\n",
    "    color: str\n",
    "class ColorCodeCircuit666:\n",
    "    def __init__(self,dist):\n",
    "        self.distance = dist\n",
    "    def within_bounds(self,x,y,side):\n",
    "        if y<0:\n",
    "            return False\n",
    "        if x<y:\n",
    "            return False\n",
    "        if y>(side-1)-x:\n",
    "            return False\n",
    "        return True\n",
    "        \n",
    "    def generate_layout(self):\n",
    "        side = self.distance*3 - 2\n",
    "        xtype = [['D', 'D', 'M'], ['M','D','D'], ['D','M','D']]\n",
    "        dirs = [(-1,-1), (1,-1),(2,0),(1,1),(-1,1),(-2,0)]\n",
    "        tiles = []\n",
    "        validpos = set()\n",
    "        for y in range(0, side):\n",
    "            xpattern = xtype[y % 3]\n",
    "            patternptr = 0\n",
    "            for x in range(y,side-y,2):\n",
    "                print(x,y)\n",
    "                currtype = xpattern[patternptr % 3]\n",
    "                if currtype == 'M':\n",
    "                    tile = ColorCodeTile(\n",
    "                        qubits = [(x+dx, y+dy) for dx,dy in dirs if self.within_bounds(x+dx,y+dy,side)],\n",
    "                        ancilla = (x,y),\n",
    "                        color = ['red','green','blue'][y % 3])\n",
    "                    tiles.append(tile)\n",
    "                patternptr += 1\n",
    "        return tiles\n",
    "circ = ColorCodeCircuit666(9)\n",
    "layout = circ.generate_layout()\n",
    "layout"
   ]
  },
  {
   "cell_type": "code",
   "execution_count": 41,
   "id": "837fe088-aedb-4d35-a0f6-2afbf4766b3a",
   "metadata": {},
   "outputs": [
    {
     "data": {
      "image/svg+xml": [
       "<svg xmlns=\"http://www.w3.org/2000/svg\" xmlns:ev=\"http://www.w3.org/2001/xml-events\" xmlns:xlink=\"http://www.w3.org/1999/xlink\" baseProfile=\"full\" height=\"240\" version=\"1.1\" width=\"480\"><defs/><polygon fill=\"crimson\" points=\"120,0 100,20 60,20 40,0\"/><circle cx=\"80\" cy=\"0\" fill=\"grey\" r=\"3\"/><circle cx=\"120\" cy=\"0\" fill=\"black\" r=\"3\"/><circle cx=\"100\" cy=\"20\" fill=\"black\" r=\"3\"/><circle cx=\"60\" cy=\"20\" fill=\"black\" r=\"3\"/><circle cx=\"40\" cy=\"0\" fill=\"black\" r=\"3\"/><polygon fill=\"crimson\" points=\"240,0 220,20 180,20 160,0\"/><circle cx=\"200\" cy=\"0\" fill=\"grey\" r=\"3\"/><circle cx=\"240\" cy=\"0\" fill=\"black\" r=\"3\"/><circle cx=\"220\" cy=\"20\" fill=\"black\" r=\"3\"/><circle cx=\"180\" cy=\"20\" fill=\"black\" r=\"3\"/><circle cx=\"160\" cy=\"0\" fill=\"black\" r=\"3\"/><polygon fill=\"crimson\" points=\"360,0 340,20 300,20 280,0\"/><circle cx=\"320\" cy=\"0\" fill=\"grey\" r=\"3\"/><circle cx=\"360\" cy=\"0\" fill=\"black\" r=\"3\"/><circle cx=\"340\" cy=\"20\" fill=\"black\" r=\"3\"/><circle cx=\"300\" cy=\"20\" fill=\"black\" r=\"3\"/><circle cx=\"280\" cy=\"0\" fill=\"black\" r=\"3\"/><polygon fill=\"crimson\" points=\"480,0 460,20 420,20 400,0\"/><circle cx=\"440\" cy=\"0\" fill=\"grey\" r=\"3\"/><circle cx=\"480\" cy=\"0\" fill=\"black\" r=\"3\"/><circle cx=\"460\" cy=\"20\" fill=\"black\" r=\"3\"/><circle cx=\"420\" cy=\"20\" fill=\"black\" r=\"3\"/><circle cx=\"400\" cy=\"0\" fill=\"black\" r=\"3\"/><polygon fill=\"lime\" points=\"0,0 40,0 60,20 40,40\"/><circle cx=\"20\" cy=\"20\" fill=\"grey\" r=\"3\"/><circle cx=\"0\" cy=\"0\" fill=\"black\" r=\"3\"/><circle cx=\"40\" cy=\"0\" fill=\"black\" r=\"3\"/><circle cx=\"60\" cy=\"20\" fill=\"black\" r=\"3\"/><circle cx=\"40\" cy=\"40\" fill=\"black\" r=\"3\"/><polygon fill=\"lime\" points=\"120,0 160,0 180,20 160,40 120,40 100,20\"/><circle cx=\"140\" cy=\"20\" fill=\"grey\" r=\"3\"/><circle cx=\"120\" cy=\"0\" fill=\"black\" r=\"3\"/><circle cx=\"160\" cy=\"0\" fill=\"black\" r=\"3\"/><circle cx=\"180\" cy=\"20\" fill=\"black\" r=\"3\"/><circle cx=\"160\" cy=\"40\" fill=\"black\" r=\"3\"/><circle cx=\"120\" cy=\"40\" fill=\"black\" r=\"3\"/><circle cx=\"100\" cy=\"20\" fill=\"black\" r=\"3\"/><polygon fill=\"lime\" points=\"240,0 280,0 300,20 280,40 240,40 220,20\"/><circle cx=\"260\" cy=\"20\" fill=\"grey\" r=\"3\"/><circle cx=\"240\" cy=\"0\" fill=\"black\" r=\"3\"/><circle cx=\"280\" cy=\"0\" fill=\"black\" r=\"3\"/><circle cx=\"300\" cy=\"20\" fill=\"black\" r=\"3\"/><circle cx=\"280\" cy=\"40\" fill=\"black\" r=\"3\"/><circle cx=\"240\" cy=\"40\" fill=\"black\" r=\"3\"/><circle cx=\"220\" cy=\"20\" fill=\"black\" r=\"3\"/><polygon fill=\"lime\" points=\"360,0 400,0 420,20 400,40 360,40 340,20\"/><circle cx=\"380\" cy=\"20\" fill=\"grey\" r=\"3\"/><circle cx=\"360\" cy=\"0\" fill=\"black\" r=\"3\"/><circle cx=\"400\" cy=\"0\" fill=\"black\" r=\"3\"/><circle cx=\"420\" cy=\"20\" fill=\"black\" r=\"3\"/><circle cx=\"400\" cy=\"40\" fill=\"black\" r=\"3\"/><circle cx=\"360\" cy=\"40\" fill=\"black\" r=\"3\"/><circle cx=\"340\" cy=\"20\" fill=\"black\" r=\"3\"/><polygon fill=\"royalblue\" points=\"60,20 100,20 120,40 100,60 60,60 40,40\"/><circle cx=\"80\" cy=\"40\" fill=\"grey\" r=\"3\"/><circle cx=\"60\" cy=\"20\" fill=\"black\" r=\"3\"/><circle cx=\"100\" cy=\"20\" fill=\"black\" r=\"3\"/><circle cx=\"120\" cy=\"40\" fill=\"black\" r=\"3\"/><circle cx=\"100\" cy=\"60\" fill=\"black\" r=\"3\"/><circle cx=\"60\" cy=\"60\" fill=\"black\" r=\"3\"/><circle cx=\"40\" cy=\"40\" fill=\"black\" r=\"3\"/><polygon fill=\"royalblue\" points=\"180,20 220,20 240,40 220,60 180,60 160,40\"/><circle cx=\"200\" cy=\"40\" fill=\"grey\" r=\"3\"/><circle cx=\"180\" cy=\"20\" fill=\"black\" r=\"3\"/><circle cx=\"220\" cy=\"20\" fill=\"black\" r=\"3\"/><circle cx=\"240\" cy=\"40\" fill=\"black\" r=\"3\"/><circle cx=\"220\" cy=\"60\" fill=\"black\" r=\"3\"/><circle cx=\"180\" cy=\"60\" fill=\"black\" r=\"3\"/><circle cx=\"160\" cy=\"40\" fill=\"black\" r=\"3\"/><polygon fill=\"royalblue\" points=\"300,20 340,20 360,40 340,60 300,60 280,40\"/><circle cx=\"320\" cy=\"40\" fill=\"grey\" r=\"3\"/><circle cx=\"300\" cy=\"20\" fill=\"black\" r=\"3\"/><circle cx=\"340\" cy=\"20\" fill=\"black\" r=\"3\"/><circle cx=\"360\" cy=\"40\" fill=\"black\" r=\"3\"/><circle cx=\"340\" cy=\"60\" fill=\"black\" r=\"3\"/><circle cx=\"300\" cy=\"60\" fill=\"black\" r=\"3\"/><circle cx=\"280\" cy=\"40\" fill=\"black\" r=\"3\"/><polygon fill=\"royalblue\" points=\"420,20 460,20 420,60 400,40\"/><circle cx=\"440\" cy=\"40\" fill=\"grey\" r=\"3\"/><circle cx=\"420\" cy=\"20\" fill=\"black\" r=\"3\"/><circle cx=\"460\" cy=\"20\" fill=\"black\" r=\"3\"/><circle cx=\"420\" cy=\"60\" fill=\"black\" r=\"3\"/><circle cx=\"400\" cy=\"40\" fill=\"black\" r=\"3\"/><polygon fill=\"crimson\" points=\"120,40 160,40 180,60 160,80 120,80 100,60\"/><circle cx=\"140\" cy=\"60\" fill=\"grey\" r=\"3\"/><circle cx=\"120\" cy=\"40\" fill=\"black\" r=\"3\"/><circle cx=\"160\" cy=\"40\" fill=\"black\" r=\"3\"/><circle cx=\"180\" cy=\"60\" fill=\"black\" r=\"3\"/><circle cx=\"160\" cy=\"80\" fill=\"black\" r=\"3\"/><circle cx=\"120\" cy=\"80\" fill=\"black\" r=\"3\"/><circle cx=\"100\" cy=\"60\" fill=\"black\" r=\"3\"/><polygon fill=\"crimson\" points=\"240,40 280,40 300,60 280,80 240,80 220,60\"/><circle cx=\"260\" cy=\"60\" fill=\"grey\" r=\"3\"/><circle cx=\"240\" cy=\"40\" fill=\"black\" r=\"3\"/><circle cx=\"280\" cy=\"40\" fill=\"black\" r=\"3\"/><circle cx=\"300\" cy=\"60\" fill=\"black\" r=\"3\"/><circle cx=\"280\" cy=\"80\" fill=\"black\" r=\"3\"/><circle cx=\"240\" cy=\"80\" fill=\"black\" r=\"3\"/><circle cx=\"220\" cy=\"60\" fill=\"black\" r=\"3\"/><polygon fill=\"crimson\" points=\"360,40 400,40 420,60 400,80 360,80 340,60\"/><circle cx=\"380\" cy=\"60\" fill=\"grey\" r=\"3\"/><circle cx=\"360\" cy=\"40\" fill=\"black\" r=\"3\"/><circle cx=\"400\" cy=\"40\" fill=\"black\" r=\"3\"/><circle cx=\"420\" cy=\"60\" fill=\"black\" r=\"3\"/><circle cx=\"400\" cy=\"80\" fill=\"black\" r=\"3\"/><circle cx=\"360\" cy=\"80\" fill=\"black\" r=\"3\"/><circle cx=\"340\" cy=\"60\" fill=\"black\" r=\"3\"/><polygon fill=\"lime\" points=\"60,60 100,60 120,80 100,100\"/><circle cx=\"80\" cy=\"80\" fill=\"grey\" r=\"3\"/><circle cx=\"60\" cy=\"60\" fill=\"black\" r=\"3\"/><circle cx=\"100\" cy=\"60\" fill=\"black\" r=\"3\"/><circle cx=\"120\" cy=\"80\" fill=\"black\" r=\"3\"/><circle cx=\"100\" cy=\"100\" fill=\"black\" r=\"3\"/><polygon fill=\"lime\" points=\"180,60 220,60 240,80 220,100 180,100 160,80\"/><circle cx=\"200\" cy=\"80\" fill=\"grey\" r=\"3\"/><circle cx=\"180\" cy=\"60\" fill=\"black\" r=\"3\"/><circle cx=\"220\" cy=\"60\" fill=\"black\" r=\"3\"/><circle cx=\"240\" cy=\"80\" fill=\"black\" r=\"3\"/><circle cx=\"220\" cy=\"100\" fill=\"black\" r=\"3\"/><circle cx=\"180\" cy=\"100\" fill=\"black\" r=\"3\"/><circle cx=\"160\" cy=\"80\" fill=\"black\" r=\"3\"/><polygon fill=\"lime\" points=\"300,60 340,60 360,80 340,100 300,100 280,80\"/><circle cx=\"320\" cy=\"80\" fill=\"grey\" r=\"3\"/><circle cx=\"300\" cy=\"60\" fill=\"black\" r=\"3\"/><circle cx=\"340\" cy=\"60\" fill=\"black\" r=\"3\"/><circle cx=\"360\" cy=\"80\" fill=\"black\" r=\"3\"/><circle cx=\"340\" cy=\"100\" fill=\"black\" r=\"3\"/><circle cx=\"300\" cy=\"100\" fill=\"black\" r=\"3\"/><circle cx=\"280\" cy=\"80\" fill=\"black\" r=\"3\"/><polygon fill=\"royalblue\" points=\"120,80 160,80 180,100 160,120 120,120 100,100\"/><circle cx=\"140\" cy=\"100\" fill=\"grey\" r=\"3\"/><circle cx=\"120\" cy=\"80\" fill=\"black\" r=\"3\"/><circle cx=\"160\" cy=\"80\" fill=\"black\" r=\"3\"/><circle cx=\"180\" cy=\"100\" fill=\"black\" r=\"3\"/><circle cx=\"160\" cy=\"120\" fill=\"black\" r=\"3\"/><circle cx=\"120\" cy=\"120\" fill=\"black\" r=\"3\"/><circle cx=\"100\" cy=\"100\" fill=\"black\" r=\"3\"/><polygon fill=\"royalblue\" points=\"240,80 280,80 300,100 280,120 240,120 220,100\"/><circle cx=\"260\" cy=\"100\" fill=\"grey\" r=\"3\"/><circle cx=\"240\" cy=\"80\" fill=\"black\" r=\"3\"/><circle cx=\"280\" cy=\"80\" fill=\"black\" r=\"3\"/><circle cx=\"300\" cy=\"100\" fill=\"black\" r=\"3\"/><circle cx=\"280\" cy=\"120\" fill=\"black\" r=\"3\"/><circle cx=\"240\" cy=\"120\" fill=\"black\" r=\"3\"/><circle cx=\"220\" cy=\"100\" fill=\"black\" r=\"3\"/><polygon fill=\"royalblue\" points=\"360,80 400,80 360,120 340,100\"/><circle cx=\"380\" cy=\"100\" fill=\"grey\" r=\"3\"/><circle cx=\"360\" cy=\"80\" fill=\"black\" r=\"3\"/><circle cx=\"400\" cy=\"80\" fill=\"black\" r=\"3\"/><circle cx=\"360\" cy=\"120\" fill=\"black\" r=\"3\"/><circle cx=\"340\" cy=\"100\" fill=\"black\" r=\"3\"/><polygon fill=\"crimson\" points=\"180,100 220,100 240,120 220,140 180,140 160,120\"/><circle cx=\"200\" cy=\"120\" fill=\"grey\" r=\"3\"/><circle cx=\"180\" cy=\"100\" fill=\"black\" r=\"3\"/><circle cx=\"220\" cy=\"100\" fill=\"black\" r=\"3\"/><circle cx=\"240\" cy=\"120\" fill=\"black\" r=\"3\"/><circle cx=\"220\" cy=\"140\" fill=\"black\" r=\"3\"/><circle cx=\"180\" cy=\"140\" fill=\"black\" r=\"3\"/><circle cx=\"160\" cy=\"120\" fill=\"black\" r=\"3\"/><polygon fill=\"crimson\" points=\"300,100 340,100 360,120 340,140 300,140 280,120\"/><circle cx=\"320\" cy=\"120\" fill=\"grey\" r=\"3\"/><circle cx=\"300\" cy=\"100\" fill=\"black\" r=\"3\"/><circle cx=\"340\" cy=\"100\" fill=\"black\" r=\"3\"/><circle cx=\"360\" cy=\"120\" fill=\"black\" r=\"3\"/><circle cx=\"340\" cy=\"140\" fill=\"black\" r=\"3\"/><circle cx=\"300\" cy=\"140\" fill=\"black\" r=\"3\"/><circle cx=\"280\" cy=\"120\" fill=\"black\" r=\"3\"/><polygon fill=\"lime\" points=\"120,120 160,120 180,140 160,160\"/><circle cx=\"140\" cy=\"140\" fill=\"grey\" r=\"3\"/><circle cx=\"120\" cy=\"120\" fill=\"black\" r=\"3\"/><circle cx=\"160\" cy=\"120\" fill=\"black\" r=\"3\"/><circle cx=\"180\" cy=\"140\" fill=\"black\" r=\"3\"/><circle cx=\"160\" cy=\"160\" fill=\"black\" r=\"3\"/><polygon fill=\"lime\" points=\"240,120 280,120 300,140 280,160 240,160 220,140\"/><circle cx=\"260\" cy=\"140\" fill=\"grey\" r=\"3\"/><circle cx=\"240\" cy=\"120\" fill=\"black\" r=\"3\"/><circle cx=\"280\" cy=\"120\" fill=\"black\" r=\"3\"/><circle cx=\"300\" cy=\"140\" fill=\"black\" r=\"3\"/><circle cx=\"280\" cy=\"160\" fill=\"black\" r=\"3\"/><circle cx=\"240\" cy=\"160\" fill=\"black\" r=\"3\"/><circle cx=\"220\" cy=\"140\" fill=\"black\" r=\"3\"/><polygon fill=\"royalblue\" points=\"180,140 220,140 240,160 220,180 180,180 160,160\"/><circle cx=\"200\" cy=\"160\" fill=\"grey\" r=\"3\"/><circle cx=\"180\" cy=\"140\" fill=\"black\" r=\"3\"/><circle cx=\"220\" cy=\"140\" fill=\"black\" r=\"3\"/><circle cx=\"240\" cy=\"160\" fill=\"black\" r=\"3\"/><circle cx=\"220\" cy=\"180\" fill=\"black\" r=\"3\"/><circle cx=\"180\" cy=\"180\" fill=\"black\" r=\"3\"/><circle cx=\"160\" cy=\"160\" fill=\"black\" r=\"3\"/><polygon fill=\"royalblue\" points=\"300,140 340,140 300,180 280,160\"/><circle cx=\"320\" cy=\"160\" fill=\"grey\" r=\"3\"/><circle cx=\"300\" cy=\"140\" fill=\"black\" r=\"3\"/><circle cx=\"340\" cy=\"140\" fill=\"black\" r=\"3\"/><circle cx=\"300\" cy=\"180\" fill=\"black\" r=\"3\"/><circle cx=\"280\" cy=\"160\" fill=\"black\" r=\"3\"/><polygon fill=\"crimson\" points=\"240,160 280,160 300,180 280,200 240,200 220,180\"/><circle cx=\"260\" cy=\"180\" fill=\"grey\" r=\"3\"/><circle cx=\"240\" cy=\"160\" fill=\"black\" r=\"3\"/><circle cx=\"280\" cy=\"160\" fill=\"black\" r=\"3\"/><circle cx=\"300\" cy=\"180\" fill=\"black\" r=\"3\"/><circle cx=\"280\" cy=\"200\" fill=\"black\" r=\"3\"/><circle cx=\"240\" cy=\"200\" fill=\"black\" r=\"3\"/><circle cx=\"220\" cy=\"180\" fill=\"black\" r=\"3\"/><polygon fill=\"lime\" points=\"180,180 220,180 240,200 220,220\"/><circle cx=\"200\" cy=\"200\" fill=\"grey\" r=\"3\"/><circle cx=\"180\" cy=\"180\" fill=\"black\" r=\"3\"/><circle cx=\"220\" cy=\"180\" fill=\"black\" r=\"3\"/><circle cx=\"240\" cy=\"200\" fill=\"black\" r=\"3\"/><circle cx=\"220\" cy=\"220\" fill=\"black\" r=\"3\"/><polygon fill=\"royalblue\" points=\"240,200 280,200 240,240 220,220\"/><circle cx=\"260\" cy=\"220\" fill=\"grey\" r=\"3\"/><circle cx=\"240\" cy=\"200\" fill=\"black\" r=\"3\"/><circle cx=\"280\" cy=\"200\" fill=\"black\" r=\"3\"/><circle cx=\"240\" cy=\"240\" fill=\"black\" r=\"3\"/><circle cx=\"220\" cy=\"220\" fill=\"black\" r=\"3\"/></svg>"
      ],
      "text/plain": [
       "<IPython.core.display.SVG object>"
      ]
     },
     "metadata": {},
     "output_type": "display_data"
    }
   ],
   "source": [
    "import svgwrite\n",
    "from IPython.display import SVG, display\n",
    "color_map = {\n",
    "    'red':'crimson',\n",
    "    'green':'lime',\n",
    "    'blue':'royalblue'\n",
    "    }\n",
    "\n",
    "def draw_tiles(tiles):\n",
    "    width = max(x for tile in tiles for x,y in tile.qubits)\n",
    "    height = max(y for tile in tiles for x,y in tile.qubits)\n",
    "    drawing = svgwrite.Drawing(size = (width*20, height*20))\n",
    "\n",
    "    for tile in tiles:\n",
    "        drawing.add(drawing.polygon(\n",
    "            points = [(x*20, y*20) for x,y in tile.qubits],\n",
    "            fill = color_map[tile.color]\n",
    "        ))\n",
    "        drawing.add(drawing.circle(center=(tile.ancilla[0]*20, tile.ancilla[1]*20), r=3, fill='grey'))\n",
    "        for x,y in tile.qubits:\n",
    "            drawing.add(drawing.circle(center=(x*20, y*20), r=3, fill='black'))\n",
    "    \n",
    "    svg_data = drawing.tostring()\n",
    "    display(SVG(svg_data))\n",
    "\n",
    "draw_tiles(layout)"
   ]
  },
  {
   "cell_type": "code",
   "execution_count": null,
   "id": "884c869e-c14a-4908-8d6e-b739ad74352f",
   "metadata": {},
   "outputs": [],
   "source": []
  }
 ],
 "metadata": {
  "kernelspec": {
   "display_name": "Python 3 (ipykernel)",
   "language": "python",
   "name": "python3"
  },
  "language_info": {
   "codemirror_mode": {
    "name": "ipython",
    "version": 3
   },
   "file_extension": ".py",
   "mimetype": "text/x-python",
   "name": "python",
   "nbconvert_exporter": "python",
   "pygments_lexer": "ipython3",
   "version": "3.9.13"
  }
 },
 "nbformat": 4,
 "nbformat_minor": 5
}
